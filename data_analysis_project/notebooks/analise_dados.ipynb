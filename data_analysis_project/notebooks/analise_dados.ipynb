{
 "cells": [
  {
   "cell_type": "code",
   "execution_count": null,
   "metadata": {},
   "outputs": [],
   "source": [
    "\n",
    "import pandas as pd\n",
    "import seaborn as sns\n",
    "import matplotlib.pyplot as plt\n",
    "\n",
    "\n",
    "dados = pd.read_csv('../data/dados_tratados.csv')\n",
    "\n",
    "\n",
    "print(dados.describe())\n",
    "\n",
    "\n",
    "print(dados['Gênero'].value_counts())\n",
    "\n",
    "\n",
    "sns.countplot(x='Gênero', data=dados)\n",
    "plt.title('Distribuição de Gênero')\n",
    "plt.show()\n"
   ]
  }
 ],
 "metadata": {
  "language_info": {
   "name": "python"
  }
 },
 "nbformat": 4,
 "nbformat_minor": 2
}
