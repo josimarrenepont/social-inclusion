{
 "cells": [
  {
   "cell_type": "code",
   "execution_count": null,
   "metadata": {},
   "outputs": [],
   "source": [
    "\n",
    "import pandas as pd\n",
    "\n",
    "\n",
    "dados = pd.read_csv('../data/dados.csv')\n",
    "\n",
    "\n",
    "print(dados.head())\n",
    "\n",
    "\n",
    "print(dados.info())\n",
    "\n",
    "\n",
    "dados = dados.dropna()\n",
    "\n",
    "\n",
    "dados.to_csv('../data/dados_limpos.csv', index=False)\n"
   ]
  }
 ],
 "metadata": {
  "language_info": {
   "name": "python"
  }
 },
 "nbformat": 4,
 "nbformat_minor": 2
}
